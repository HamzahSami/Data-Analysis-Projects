{
 "cells": [
  {
   "cell_type": "markdown",
   "metadata": {},
   "source": [
    "# Healthcare Medical Appt Analysis\n",
    "\n",
    " By: Hamzah Sami"
   ]
  },
  {
   "cell_type": "markdown",
   "metadata": {},
   "source": [
    "An issue in healthcare is patients not showing up to their medical appts. Aside from the danger of not checking their health, the issue of patients no-showing is an expensive one. According to Lumahealth.io, the healthcare industry loses 150 billion dollars a year from medical no-shows. Additionally, 18.8% of patients no-show at appts and this causes clinics to lose over 150,000 dollars a year per provider.\n",
    "\n",
    "The following dataset consists of 110,527 medical appts collected from the Joni Hoppen and Aquarela Advanced Analytics Aquarela. The goals of analyzing this dataset are: \n",
    "\n",
    "- Does the neighborhood affect why  people don't make it to their appts?\n",
    "- Does scholarship status affect why there are so many no-shows?\n",
    "- does the difference between scheduling an appt and going to the appt affect the chance of a no-show?\n",
    "- Do SMS messages actually help?\n",
    "\n",
    "source: https://www.kaggle.com/code/sohailadiab/medical-appointment-no-shows-analysis"
   ]
  },
  {
   "cell_type": "markdown",
   "metadata": {},
   "source": [
    "Content\n",
    "110.527 medical appointments its 14 associated variables (characteristics). The most important one if the patient show-up or no-show to the appointment. Variable names are self-explanatory, if you have doubts, just let me know!\n",
    "\n",
    "scholarship variable means this concept = https://en.wikipedia.org/wiki/Bolsa_Fam%C3%ADlia\n",
    "\n",
    "14 variables\n",
    "\n",
    "01 - PatientId\n",
    "Identification of a patient\n",
    "\n",
    "02 - AppointmentID\n",
    "Identification of each appointment\n",
    "\n",
    "03 - Gender\n",
    "Male or Female . Female is the greater proportion, woman takes way more care of they health in comparison to man.\n",
    "\n",
    "04 - DataMarcacaoConsulta\n",
    "The day of the actuall appointment, when they have to visit the doctor.\n",
    "\n",
    "05 - DataAgendamento\n",
    "The day someone called or registered the appointment, this is before appointment of course.\n",
    "\n",
    "06 - Age\n",
    "How old is the patient.\n",
    "\n",
    "07 - Neighbourhood\n",
    "Where the appointment takes place.\n",
    "\n",
    "08 - Scholarship\n",
    "True of False . Observation, this is a broad topic, consider reading this article https://en.wikipedia.org/wiki/Bolsa_Fam%C3%ADlia\n",
    "\n",
    "09 - Hypertension\n",
    "True or False\n",
    "\n",
    "10 - Diabetes\n",
    "True or False\n",
    "\n",
    "Alcoholism\n",
    "True or False\n",
    "\n",
    "Handcap\n",
    "True or False\n",
    "\n",
    "SMS_received\n",
    "1 or more messages sent to the patient.\n",
    "\n",
    "No-show\n",
    "True or False.\n",
    "\n",
    "Note that there are repeated entries for patients. "
   ]
  },
  {
   "cell_type": "code",
   "execution_count": 236,
   "metadata": {},
   "outputs": [],
   "source": [
    "#import packages\n",
    "import pandas as pd\n",
    "import matplotlib.pyplot as plt\n",
    "import numpy as np\n",
    "from matplotlib.pyplot import figure\n",
    "import seaborn as sns\n",
    "from datetime import datetime"
   ]
  },
  {
   "cell_type": "code",
   "execution_count": 237,
   "metadata": {},
   "outputs": [
    {
     "data": {
      "text/html": [
       "<div>\n",
       "<style scoped>\n",
       "    .dataframe tbody tr th:only-of-type {\n",
       "        vertical-align: middle;\n",
       "    }\n",
       "\n",
       "    .dataframe tbody tr th {\n",
       "        vertical-align: top;\n",
       "    }\n",
       "\n",
       "    .dataframe thead th {\n",
       "        text-align: right;\n",
       "    }\n",
       "</style>\n",
       "<table border=\"1\" class=\"dataframe\">\n",
       "  <thead>\n",
       "    <tr style=\"text-align: right;\">\n",
       "      <th></th>\n",
       "      <th>PatientId</th>\n",
       "      <th>AppointmentID</th>\n",
       "      <th>Gender</th>\n",
       "      <th>ScheduledDay</th>\n",
       "      <th>AppointmentDay</th>\n",
       "      <th>Age</th>\n",
       "      <th>Neighbourhood</th>\n",
       "      <th>Scholarship</th>\n",
       "      <th>Hipertension</th>\n",
       "      <th>Diabetes</th>\n",
       "      <th>Alcoholism</th>\n",
       "      <th>Handcap</th>\n",
       "      <th>SMS_received</th>\n",
       "      <th>No-show</th>\n",
       "    </tr>\n",
       "  </thead>\n",
       "  <tbody>\n",
       "    <tr>\n",
       "      <th>0</th>\n",
       "      <td>2.987250e+13</td>\n",
       "      <td>5642903</td>\n",
       "      <td>F</td>\n",
       "      <td>2016-04-29T18:38:08Z</td>\n",
       "      <td>2016-04-29T00:00:00Z</td>\n",
       "      <td>62</td>\n",
       "      <td>JARDIM DA PENHA</td>\n",
       "      <td>0</td>\n",
       "      <td>1</td>\n",
       "      <td>0</td>\n",
       "      <td>0</td>\n",
       "      <td>0</td>\n",
       "      <td>0</td>\n",
       "      <td>No</td>\n",
       "    </tr>\n",
       "    <tr>\n",
       "      <th>1</th>\n",
       "      <td>5.589978e+14</td>\n",
       "      <td>5642503</td>\n",
       "      <td>M</td>\n",
       "      <td>2016-04-29T16:08:27Z</td>\n",
       "      <td>2016-04-29T00:00:00Z</td>\n",
       "      <td>56</td>\n",
       "      <td>JARDIM DA PENHA</td>\n",
       "      <td>0</td>\n",
       "      <td>0</td>\n",
       "      <td>0</td>\n",
       "      <td>0</td>\n",
       "      <td>0</td>\n",
       "      <td>0</td>\n",
       "      <td>No</td>\n",
       "    </tr>\n",
       "    <tr>\n",
       "      <th>2</th>\n",
       "      <td>4.262962e+12</td>\n",
       "      <td>5642549</td>\n",
       "      <td>F</td>\n",
       "      <td>2016-04-29T16:19:04Z</td>\n",
       "      <td>2016-04-29T00:00:00Z</td>\n",
       "      <td>62</td>\n",
       "      <td>MATA DA PRAIA</td>\n",
       "      <td>0</td>\n",
       "      <td>0</td>\n",
       "      <td>0</td>\n",
       "      <td>0</td>\n",
       "      <td>0</td>\n",
       "      <td>0</td>\n",
       "      <td>No</td>\n",
       "    </tr>\n",
       "    <tr>\n",
       "      <th>3</th>\n",
       "      <td>8.679512e+11</td>\n",
       "      <td>5642828</td>\n",
       "      <td>F</td>\n",
       "      <td>2016-04-29T17:29:31Z</td>\n",
       "      <td>2016-04-29T00:00:00Z</td>\n",
       "      <td>8</td>\n",
       "      <td>PONTAL DE CAMBURI</td>\n",
       "      <td>0</td>\n",
       "      <td>0</td>\n",
       "      <td>0</td>\n",
       "      <td>0</td>\n",
       "      <td>0</td>\n",
       "      <td>0</td>\n",
       "      <td>No</td>\n",
       "    </tr>\n",
       "    <tr>\n",
       "      <th>4</th>\n",
       "      <td>8.841186e+12</td>\n",
       "      <td>5642494</td>\n",
       "      <td>F</td>\n",
       "      <td>2016-04-29T16:07:23Z</td>\n",
       "      <td>2016-04-29T00:00:00Z</td>\n",
       "      <td>56</td>\n",
       "      <td>JARDIM DA PENHA</td>\n",
       "      <td>0</td>\n",
       "      <td>1</td>\n",
       "      <td>1</td>\n",
       "      <td>0</td>\n",
       "      <td>0</td>\n",
       "      <td>0</td>\n",
       "      <td>No</td>\n",
       "    </tr>\n",
       "  </tbody>\n",
       "</table>\n",
       "</div>"
      ],
      "text/plain": [
       "      PatientId  AppointmentID Gender          ScheduledDay  \\\n",
       "0  2.987250e+13        5642903      F  2016-04-29T18:38:08Z   \n",
       "1  5.589978e+14        5642503      M  2016-04-29T16:08:27Z   \n",
       "2  4.262962e+12        5642549      F  2016-04-29T16:19:04Z   \n",
       "3  8.679512e+11        5642828      F  2016-04-29T17:29:31Z   \n",
       "4  8.841186e+12        5642494      F  2016-04-29T16:07:23Z   \n",
       "\n",
       "         AppointmentDay  Age      Neighbourhood  Scholarship  Hipertension  \\\n",
       "0  2016-04-29T00:00:00Z   62    JARDIM DA PENHA            0             1   \n",
       "1  2016-04-29T00:00:00Z   56    JARDIM DA PENHA            0             0   \n",
       "2  2016-04-29T00:00:00Z   62      MATA DA PRAIA            0             0   \n",
       "3  2016-04-29T00:00:00Z    8  PONTAL DE CAMBURI            0             0   \n",
       "4  2016-04-29T00:00:00Z   56    JARDIM DA PENHA            0             1   \n",
       "\n",
       "   Diabetes  Alcoholism  Handcap  SMS_received No-show  \n",
       "0         0           0        0             0      No  \n",
       "1         0           0        0             0      No  \n",
       "2         0           0        0             0      No  \n",
       "3         0           0        0             0      No  \n",
       "4         1           0        0             0      No  "
      ]
     },
     "execution_count": 237,
     "metadata": {},
     "output_type": "execute_result"
    }
   ],
   "source": [
    "#read data\n",
    "df = pd.read_csv(\"/Users/.../medical_wait_times.csv\")\n",
    "df.head(5)"
   ]
  },
  {
   "cell_type": "code",
   "execution_count": 238,
   "metadata": {},
   "outputs": [
    {
     "name": "stdout",
     "output_type": "stream",
     "text": [
      "Number of rows:  110527\n",
      "Number of columns:  14\n"
     ]
    }
   ],
   "source": [
    "print(\"Number of rows: \", df.shape[0])\n",
    "print(\"Number of columns: \", df.shape[1])"
   ]
  },
  {
   "cell_type": "markdown",
   "metadata": {},
   "source": [
    "# Data Cleaning\n",
    "\n",
    "- check for nulls\n",
    "- drop patient id\n",
    "- convert ScheduledDay, AppointmentDay variables into datetime variables\n",
    "- convert No-show to a binary variable (1 = YES, 0 = NO)\n",
    "- create a new variable for week_number to track no shows and neighborhoods."
   ]
  },
  {
   "cell_type": "code",
   "execution_count": 239,
   "metadata": {},
   "outputs": [
    {
     "data": {
      "text/plain": [
       "PatientId         float64\n",
       "AppointmentID       int64\n",
       "Gender             object\n",
       "ScheduledDay       object\n",
       "AppointmentDay     object\n",
       "Age                 int64\n",
       "Neighbourhood      object\n",
       "Scholarship         int64\n",
       "Hipertension        int64\n",
       "Diabetes            int64\n",
       "Alcoholism          int64\n",
       "Handcap             int64\n",
       "SMS_received        int64\n",
       "No-show            object\n",
       "dtype: object"
      ]
     },
     "execution_count": 239,
     "metadata": {},
     "output_type": "execute_result"
    }
   ],
   "source": [
    "df.dtypes"
   ]
  },
  {
   "cell_type": "code",
   "execution_count": 240,
   "metadata": {},
   "outputs": [
    {
     "data": {
      "text/plain": [
       "PatientId         0\n",
       "AppointmentID     0\n",
       "Gender            0\n",
       "ScheduledDay      0\n",
       "AppointmentDay    0\n",
       "Age               0\n",
       "Neighbourhood     0\n",
       "Scholarship       0\n",
       "Hipertension      0\n",
       "Diabetes          0\n",
       "Alcoholism        0\n",
       "Handcap           0\n",
       "SMS_received      0\n",
       "No-show           0\n",
       "dtype: int64"
      ]
     },
     "execution_count": 240,
     "metadata": {},
     "output_type": "execute_result"
    }
   ],
   "source": [
    "df.isnull().sum()"
   ]
  },
  {
   "cell_type": "markdown",
   "metadata": {},
   "source": [
    "- No nulls noted"
   ]
  },
  {
   "cell_type": "code",
   "execution_count": 241,
   "metadata": {},
   "outputs": [],
   "source": [
    "#Spell hypertension correctly\n",
    "df.rename(columns = {'Hipertension': 'Hypertension', 'No-show':'No_shows'}, inplace = True)"
   ]
  },
  {
   "cell_type": "code",
   "execution_count": 242,
   "metadata": {},
   "outputs": [
    {
     "data": {
      "text/plain": [
       "Index(['PatientId', 'AppointmentID', 'Gender', 'ScheduledDay',\n",
       "       'AppointmentDay', 'Age', 'Neighbourhood', 'Scholarship', 'Hypertension',\n",
       "       'Diabetes', 'Alcoholism', 'Handcap', 'SMS_received', 'No_shows'],\n",
       "      dtype='object')"
      ]
     },
     "execution_count": 242,
     "metadata": {},
     "output_type": "execute_result"
    }
   ],
   "source": [
    "df.columns"
   ]
  },
  {
   "cell_type": "code",
   "execution_count": 243,
   "metadata": {},
   "outputs": [
    {
     "data": {
      "text/plain": [
       "3539"
      ]
     },
     "execution_count": 243,
     "metadata": {},
     "output_type": "execute_result"
    }
   ],
   "source": [
    "#check for outliers in age\n",
    "df['Age'].min()\n",
    "df[df['Age'] == 0].shape[0]"
   ]
  },
  {
   "cell_type": "markdown",
   "metadata": {},
   "source": [
    "There is one row for which age is -1 and 3539 rows for which age = 0. Obviously, these are invalid to use in our analysis so we need to remove them."
   ]
  },
  {
   "cell_type": "code",
   "execution_count": 244,
   "metadata": {},
   "outputs": [
    {
     "name": "stdout",
     "output_type": "stream",
     "text": [
      "excluded rows:  3540\n"
     ]
    }
   ],
   "source": [
    "#make sure age is greater than 0\n",
    "original_rows = 110527\n",
    "df = df[df['Age'] > 0]\n",
    "df\n",
    "print(\"excluded rows: \",original_rows - df.shape[0])"
   ]
  },
  {
   "cell_type": "markdown",
   "metadata": {},
   "source": [
    "Great, we have excluded all the invalid rows for age!"
   ]
  },
  {
   "cell_type": "markdown",
   "metadata": {},
   "source": [
    "All of the other variables are clean so we can dive into the analysis."
   ]
  },
  {
   "cell_type": "code",
   "execution_count": 245,
   "metadata": {},
   "outputs": [
    {
     "data": {
      "image/png": "[encoded data removed]",
      "text/plain": [
       "<Figure size 432x288 with 1 Axes>"
      ]
     },
     "metadata": {},
     "output_type": "display_data"
    }
   ],
   "source": [
    "#plot percentage of No shows\n",
    "df['No_shows'].value_counts(normalize = True).plot(kind = 'bar')\n",
    "plt.xticks(rotation = 0)\n",
    "plt.xlabel(\"Arrival Status\")\n",
    "plt.ylabel(\"Percentage of No-shows\")\n",
    "plt.show()"
   ]
  },
  {
   "cell_type": "code",
   "execution_count": 246,
   "metadata": {},
   "outputs": [
    {
     "name": "stdout",
     "output_type": "stream",
     "text": [
      "Percentage of No_shows: 20.26%\n"
     ]
    }
   ],
   "source": [
    "no_shows = round(df['No_shows'].value_counts(normalize = True)[1] * 100, 2)\n",
    "print(\"Percentage of No_shows: \" + str(no_shows) + '%')"
   ]
  },
  {
   "cell_type": "markdown",
   "metadata": {},
   "source": [
    "- Close to 20% of all appts made had no-shows. What are ways we can trim this number down?"
   ]
  },
  {
   "cell_type": "markdown",
   "metadata": {},
   "source": [
    "# Research Question 1\n",
    "\n",
    "- Does the neighborhood affect why  people don't make it to their appts?\n",
    "- There are 81 unique neighborhoods in the given dataset. According to the data, almost 7% of scheduled appts cite their neighborhood as Jardim Camburi and almost 5% com from Maria Ortiz. "
   ]
  },
  {
   "cell_type": "code",
   "execution_count": 247,
   "metadata": {},
   "outputs": [
    {
     "data": {
      "text/plain": [
       "JARDIM CAMBURI                 0.070906\n",
       "MARIA ORTIZ                    0.051997\n",
       "RESISTÊNCIA                    0.039584\n",
       "JARDIM DA PENHA                0.035995\n",
       "ITARARÉ                        0.031892\n",
       "CENTRO                         0.030677\n",
       "SANTA MARTHA                   0.028424\n",
       "TABUAZEIRO                     0.028218\n",
       "JESUS DE NAZARETH              0.025414\n",
       "BONFIM                         0.025237\n",
       "SANTO ANTÔNIO                  0.024984\n",
       "CARATOÍRA                      0.023265\n",
       "SANTO ANDRÉ                    0.022975\n",
       "JABOUR                         0.022395\n",
       "SÃO PEDRO                      0.021928\n",
       "ILHA DO PRÍNCIPE               0.020769\n",
       "ANDORINHAS                     0.020517\n",
       "DA PENHA                       0.020143\n",
       "NOVA PALESTINA                 0.020068\n",
       "ROMÃO                          0.019872\n",
       "GURIGICA                       0.017806\n",
       "SÃO JOSÉ                       0.017460\n",
       "MARUÍPE                        0.017432\n",
       "BELA VISTA                     0.017142\n",
       "ILHA DE SANTA MARIA            0.017039\n",
       "FORTE SÃO JOÃO                 0.016909\n",
       "SÃO CRISTÓVÃO                  0.016684\n",
       "REDENÇÃO                       0.013936\n",
       "JOANA D´ARC                    0.012693\n",
       "CRUZAMENTO                     0.012684\n",
       "                                 ...   \n",
       "ESTRELINHA                     0.004991\n",
       "SANTOS REIS                    0.004860\n",
       "SANTA CLARA                    0.004636\n",
       "SOLON BORGES                   0.004225\n",
       "SANTA CECÍLIA                  0.004141\n",
       "PIEDADE                        0.004066\n",
       "SANTA LÚCIA                    0.004057\n",
       "SANTA LUÍZA                    0.003916\n",
       "BARRO VERMELHO                 0.003907\n",
       "DO MOSCOSO                     0.003692\n",
       "MÁRIO CYPRESTE                 0.003430\n",
       "COMDUSA                        0.002879\n",
       "BOA VISTA                      0.002851\n",
       "DE LOURDES                     0.002804\n",
       "ARIOVALDO FAVALESSA            0.002505\n",
       "ANTÔNIO HONÓRIO                0.002402\n",
       "FRADINHOS                      0.002374\n",
       "ENSEADA DO SUÁ                 0.002140\n",
       "SANTA HELENA                   0.001626\n",
       "HORTO                          0.001552\n",
       "UNIVERSITÁRIO                  0.001411\n",
       "SEGURANÇA DO LAR               0.001309\n",
       "NAZARETH                       0.001234\n",
       "MORADA DE CAMBURI              0.000879\n",
       "PONTAL DE CAMBURI              0.000645\n",
       "ILHA DO BOI                    0.000327\n",
       "ILHA DO FRADE                  0.000093\n",
       "AEROPORTO                      0.000075\n",
       "ILHAS OCEÂNICAS DE TRINDADE    0.000019\n",
       "PARQUE INDUSTRIAL              0.000009\n",
       "Name: Neighbourhood, Length: 81, dtype: float64"
      ]
     },
     "execution_count": 247,
     "metadata": {},
     "output_type": "execute_result"
    }
   ],
   "source": [
    "#count how many appointments come from certain neighborhoods\n",
    "df['Neighbourhood'].value_counts(normalize = True).sort_values(ascending = False)"
   ]
  },
  {
   "cell_type": "code",
   "execution_count": 248,
   "metadata": {},
   "outputs": [
    {
     "data": {
      "image/png": "[encoded data removed]",
      "text/plain": [
       "<Figure size 1440x720 with 1 Axes>"
      ]
     },
     "metadata": {},
     "output_type": "display_data"
    }
   ],
   "source": [
    "#plot no-shows by neighborhood\n",
    "plt.figure(figsize=(20,10))\n",
    "sns.countplot(x=df['Neighbourhood'], hue=df['No_shows']);\n",
    "plt.title('Atendance by Neighborhood')\n",
    "plt.xticks(rotation=90);"
   ]
  },
  {
   "cell_type": "code",
   "execution_count": 249,
   "metadata": {},
   "outputs": [],
   "source": [
    "#Jardin Camburi and Maria Ortiz are most frequent. Make separate df\n",
    "jardim_camburi = df[df['Neighbourhood'] == 'JARDIM CAMBURI']\n",
    "maria_ortiz = df[df['Neighbourhood'] == 'MARIA ORTIZ']"
   ]
  },
  {
   "cell_type": "code",
   "execution_count": 250,
   "metadata": {},
   "outputs": [
    {
     "data": {
      "text/plain": [
       "No_shows\n",
       "No     0.811231\n",
       "Yes    0.188769\n",
       "Name: No_shows, dtype: float64"
      ]
     },
     "execution_count": 250,
     "metadata": {},
     "output_type": "execute_result"
    }
   ],
   "source": [
    "jardim_camburi.groupby(by = 'No_shows')['No_shows'].count()/len(jardim_camburi)"
   ]
  },
  {
   "cell_type": "code",
   "execution_count": 251,
   "metadata": {},
   "outputs": [
    {
     "data": {
      "text/plain": [
       "No_shows\n",
       "No     0.785368\n",
       "Yes    0.214632\n",
       "Name: No_shows, dtype: float64"
      ]
     },
     "execution_count": 251,
     "metadata": {},
     "output_type": "execute_result"
    }
   ],
   "source": [
    "maria_ortiz.groupby(by = 'No_shows')['No_shows'].count()/len(maria_ortiz)"
   ]
  },
  {
   "cell_type": "markdown",
   "metadata": {},
   "source": [
    "- The two neighbourhood with the most no-shows are Jardin Camburi and Maria Ortiz. About 19% of all medical appts from Jardim Camburi were no-shows and over 21% of all no-shows were from maria ortiz. The vast majority of appointments are from the two neighbourhoods listed but when looking at the bar graph above, every neighbourhood seems to have more no-shows than arrival. The neighbourhood may pay an issue, but it is clear that there are more factors to consider. "
   ]
  },
  {
   "cell_type": "markdown",
   "metadata": {},
   "source": [
    "## Research Question 2\n",
    "\n",
    "- Does scholarship status affect why there are so many no-shows?"
   ]
  },
  {
   "cell_type": "markdown",
   "metadata": {},
   "source": [
    "- According to the given link provided, to be on scholarship in this instance means to be a member of a social welfare program that provides financial aid to poor families. \n",
    "\n",
    "- In fact, this program was considered the number one reason for why poverty in Brazil fell and improved the job market and minimum wage.\n",
    "\n",
    "- As of 2021, this program has ended and has been replaced by a new government program. "
   ]
  },
  {
   "cell_type": "code",
   "execution_count": 252,
   "metadata": {},
   "outputs": [
    {
     "data": {
      "text/plain": [
       "0    0.898969\n",
       "1    0.101031\n",
       "Name: Scholarship, dtype: float64"
      ]
     },
     "execution_count": 252,
     "metadata": {},
     "output_type": "execute_result"
    }
   ],
   "source": [
    "df['Scholarship'].value_counts(normalize = True)"
   ]
  },
  {
   "cell_type": "markdown",
   "metadata": {},
   "source": [
    "- About 90% of all medical appts classify themselves as not being on scholarship. "
   ]
  },
  {
   "cell_type": "code",
   "execution_count": 253,
   "metadata": {},
   "outputs": [],
   "source": [
    "scholar = df[df['Scholarship'] == 1]\n",
    "not_scholar = df[df['Scholarship'] == 0]"
   ]
  },
  {
   "cell_type": "code",
   "execution_count": 254,
   "metadata": {},
   "outputs": [
    {
     "data": {
      "image/png": "[encoded data removed]",
      "text/plain": [
       "<Figure size 1440x720 with 1 Axes>"
      ]
     },
     "metadata": {},
     "output_type": "display_data"
    }
   ],
   "source": [
    "#what neighborhoods are on scholarship\n",
    "plt.figure(figsize=(20,10))\n",
    "sns.countplot(x=scholar['Neighbourhood'])\n",
    "plt.title('Scholarship by Neighborhood')\n",
    "plt.xticks(rotation=90);"
   ]
  },
  {
   "cell_type": "code",
   "execution_count": 255,
   "metadata": {},
   "outputs": [
    {
     "data": {
      "text/plain": [
       "Neighbourhood        No_shows\n",
       "ILHA DO PRÍNCIPE     No          432\n",
       "TABUAZEIRO           No          423\n",
       "RESISTÊNCIA          No          372\n",
       "CARATOÍRA            No          352\n",
       "SANTA MARTHA         No          343\n",
       "SÃO BENEDITO         No          327\n",
       "GURIGICA             No          310\n",
       "BONFIM               No          278\n",
       "SÃO PEDRO            No          255\n",
       "SANTO ANDRÉ          No          255\n",
       "NOVA PALESTINA       No          243\n",
       "ANDORINHAS           No          230\n",
       "ITARARÉ              No          222\n",
       "JESUS DE NAZARETH    No          208\n",
       "DA PENHA             No          207\n",
       "JABOUR               No          199\n",
       "BELA VISTA           No          175\n",
       "JOANA D´ARC          No          171\n",
       "SANTOS DUMONT        No          171\n",
       "ILHA DAS CAIEIRAS    No          160\n",
       "CONSOLAÇÃO           No          158\n",
       "SANTA TEREZA         No          145\n",
       "ILHA DO PRÍNCIPE     Yes         140\n",
       "SÃO CRISTÓVÃO        No          137\n",
       "SÃO JOSÉ             No          133\n",
       "ROMÃO                No          131\n",
       "REDENÇÃO             No          125\n",
       "CRUZAMENTO           No          125\n",
       "JARDIM CAMBURI       No          116\n",
       "GURIGICA             Yes         111\n",
       "                                ... \n",
       "BENTO FERREIRA       Yes           7\n",
       "BOA VISTA            Yes           6\n",
       "SANTA LUÍZA          No            6\n",
       "HORTO                No            5\n",
       "ILHA DE SANTA MARIA  Yes           5\n",
       "MATA DA PRAIA        No            5\n",
       "PONTAL DE CAMBURI    No            5\n",
       "ANTÔNIO HONÓRIO      Yes           5\n",
       "COMDUSA              Yes           5\n",
       "DE LOURDES           No            4\n",
       "MÁRIO CYPRESTE       Yes           4\n",
       "SANTA CECÍLIA        Yes           4\n",
       "GOIABEIRAS           Yes           4\n",
       "UNIVERSITÁRIO        Yes           3\n",
       "MONTE BELO           Yes           3\n",
       "PARQUE MOSCOSO       Yes           3\n",
       "ENSEADA DO SUÁ       No            3\n",
       "                     Yes           3\n",
       "SEGURANÇA DO LAR     Yes           2\n",
       "JUCUTUQUARA          Yes           2\n",
       "UNIVERSITÁRIO        No            2\n",
       "FRADINHOS            Yes           2\n",
       "MONTE BELO           No            2\n",
       "NAZARETH             Yes           1\n",
       "                     No            1\n",
       "JARDIM DA PENHA      Yes           1\n",
       "HORTO                Yes           1\n",
       "DE LOURDES           Yes           1\n",
       "SANTA LUÍZA          Yes           1\n",
       "MATA DA PRAIA        Yes           1\n",
       "Name: Scholarship, Length: 143, dtype: int64"
      ]
     },
     "execution_count": 255,
     "metadata": {},
     "output_type": "execute_result"
    }
   ],
   "source": [
    "#count number of scholarships by no show status and neighborhood \n",
    "scholar.groupby(by = ['Neighbourhood','No_shows'])['Scholarship'].count().sort_values(ascending = False)"
   ]
  },
  {
   "cell_type": "markdown",
   "metadata": {},
   "source": [
    "- The neighborhoods with the most people on scholarship that are no-shows are ILHA DO PRÍNCIPE (140) and GURIGICA (111). It is also of note that the neighborhoods with the two most no_shows (Jardim Camburi and Maria Ortiz are well below other neighborhoods)."
   ]
  },
  {
   "cell_type": "code",
   "execution_count": 256,
   "metadata": {},
   "outputs": [
    {
     "data": {
      "image/png": "[encoded data removed]",
      "text/plain": [
       "<Figure size 1440x720 with 1 Axes>"
      ]
     },
     "metadata": {},
     "output_type": "display_data"
    }
   ],
   "source": [
    "#what neighborhoods are on scholarship\n",
    "plt.figure(figsize=(20,10))\n",
    "sns.countplot(x=not_scholar['Neighbourhood'])\n",
    "plt.title('No Scholarship by Neighborhood')\n",
    "plt.xticks(rotation=90);"
   ]
  },
  {
   "cell_type": "code",
   "execution_count": 257,
   "metadata": {},
   "outputs": [
    {
     "data": {
      "text/plain": [
       "Neighbourhood                No_shows\n",
       "JARDIM CAMBURI               No          6038\n",
       "MARIA ORTIZ                  No          4285\n",
       "JARDIM DA PENHA              No          3214\n",
       "RESISTÊNCIA                  No          2988\n",
       "CENTRO                       No          2479\n",
       "ITARARÉ                      No          2292\n",
       "SANTA MARTHA                 No          2209\n",
       "SANTO ANTÔNIO                No          2096\n",
       "TABUAZEIRO                   No          2044\n",
       "BONFIM                       No          1885\n",
       "JESUS DE NAZARETH            No          1835\n",
       "JABOUR                       No          1765\n",
       "SANTO ANDRÉ                  No          1717\n",
       "SÃO PEDRO                    No          1594\n",
       "CARATOÍRA                    No          1551\n",
       "ROMÃO                        No          1529\n",
       "DA PENHA                     No          1526\n",
       "NOVA PALESTINA               No          1520\n",
       "ILHA DE SANTA MARIA          No          1464\n",
       "ANDORINHAS                   No          1456\n",
       "JARDIM CAMBURI               Yes         1389\n",
       "FORTE SÃO JOÃO               No          1366\n",
       "MARUÍPE                      No          1361\n",
       "SÃO JOSÉ                     No          1328\n",
       "BELA VISTA                   No          1301\n",
       "SÃO CRISTÓVÃO                No          1288\n",
       "ILHA DO PRÍNCIPE             No          1265\n",
       "GURIGICA                     No          1166\n",
       "MARIA ORTIZ                  Yes         1159\n",
       "REDENÇÃO                     No          1109\n",
       "                                         ... \n",
       "MORADA DE CAMBURI            No            79\n",
       "SANTA LUÍZA                  Yes           75\n",
       "PIEDADE                      Yes           65\n",
       "DO CABRAL                    Yes           59\n",
       "SOLON BORGES                 Yes           56\n",
       "ARIOVALDO FAVALESSA          Yes           53\n",
       "PONTAL DE CAMBURI            No            52\n",
       "BOA VISTA                    Yes           52\n",
       "DO MOSCOSO                   Yes           51\n",
       "COMDUSA                      Yes           50\n",
       "MÁRIO CYPRESTE               Yes           49\n",
       "ENSEADA DO SUÁ               Yes           48\n",
       "DE LOURDES                   Yes           44\n",
       "FRADINHOS                    Yes           44\n",
       "ANTÔNIO HONÓRIO              Yes           40\n",
       "HORTO                        Yes           37\n",
       "ILHA DO BOI                  No            32\n",
       "UNIVERSITÁRIO                Yes           29\n",
       "SANTA HELENA                 Yes           28\n",
       "NAZARETH                     Yes           26\n",
       "SEGURANÇA DO LAR             Yes           24\n",
       "MORADA DE CAMBURI            Yes           15\n",
       "PONTAL DE CAMBURI            Yes           12\n",
       "ILHA DO FRADE                No             8\n",
       "AEROPORTO                    No             7\n",
       "ILHA DO BOI                  Yes            3\n",
       "ILHAS OCEÂNICAS DE TRINDADE  Yes            2\n",
       "ILHA DO FRADE                Yes            2\n",
       "PARQUE INDUSTRIAL            No             1\n",
       "AEROPORTO                    Yes            1\n",
       "Name: Scholarship, Length: 160, dtype: int64"
      ]
     },
     "execution_count": 257,
     "metadata": {},
     "output_type": "execute_result"
    }
   ],
   "source": [
    "not_scholar.groupby(by = ['Neighbourhood','No_shows'])['Scholarship'].count().sort_values(ascending = False)"
   ]
  },
  {
   "cell_type": "markdown",
   "metadata": {},
   "source": [
    "- On that note, Jardim Camburi (1389) and Maria Ortiz (1159) have the no-shows for people that are not on scholarship. "
   ]
  },
  {
   "cell_type": "markdown",
   "metadata": {},
   "source": [
    "## Research Question 3\n",
    "\n",
    "- Do SMS messages actually help?"
   ]
  },
  {
   "cell_type": "code",
   "execution_count": 258,
   "metadata": {},
   "outputs": [
    {
     "data": {
      "text/plain": [
       "0    0.676736\n",
       "1    0.323264\n",
       "Name: SMS_received, dtype: float64"
      ]
     },
     "execution_count": 258,
     "metadata": {},
     "output_type": "execute_result"
    }
   ],
   "source": [
    "df['SMS_received'].value_counts(normalize = True)"
   ]
  },
  {
   "cell_type": "markdown",
   "metadata": {},
   "source": [
    "- About 68% of the data says that they do not receive SMS reminders about their appointments"
   ]
  },
  {
   "cell_type": "code",
   "execution_count": 259,
   "metadata": {},
   "outputs": [
    {
     "data": {
      "text/html": [
       "<div>\n",
       "<style scoped>\n",
       "    .dataframe tbody tr th:only-of-type {\n",
       "        vertical-align: middle;\n",
       "    }\n",
       "\n",
       "    .dataframe tbody tr th {\n",
       "        vertical-align: top;\n",
       "    }\n",
       "\n",
       "    .dataframe thead th {\n",
       "        text-align: right;\n",
       "    }\n",
       "</style>\n",
       "<table border=\"1\" class=\"dataframe\">\n",
       "  <thead>\n",
       "    <tr style=\"text-align: right;\">\n",
       "      <th>No_shows</th>\n",
       "      <th>No</th>\n",
       "      <th>Yes</th>\n",
       "    </tr>\n",
       "    <tr>\n",
       "      <th>SMS_received</th>\n",
       "      <th></th>\n",
       "      <th></th>\n",
       "    </tr>\n",
       "  </thead>\n",
       "  <tbody>\n",
       "    <tr>\n",
       "      <th>0</th>\n",
       "      <td>60290</td>\n",
       "      <td>12112</td>\n",
       "    </tr>\n",
       "    <tr>\n",
       "      <th>1</th>\n",
       "      <td>25017</td>\n",
       "      <td>9568</td>\n",
       "    </tr>\n",
       "  </tbody>\n",
       "</table>\n",
       "</div>"
      ],
      "text/plain": [
       "No_shows         No    Yes\n",
       "SMS_received              \n",
       "0             60290  12112\n",
       "1             25017   9568"
      ]
     },
     "execution_count": 259,
     "metadata": {},
     "output_type": "execute_result"
    }
   ],
   "source": [
    "df.groupby(by = ['SMS_received','No_shows'])['No_shows'].count().unstack()"
   ]
  },
  {
   "cell_type": "markdown",
   "metadata": {},
   "source": [
    "- When we compare the number of no-shows between who receives SMS reminders and who doesn't, we cannot conclude if this is a significant reason for why people no-show their appointments. After all, it appears that whether people recieve the SMS or not, the vast majority do come to their appointments. "
   ]
  },
  {
   "cell_type": "markdown",
   "metadata": {},
   "source": [
    "## Research Question 4\n",
    "\n",
    "- does the difference between scheduling an appt and going to the appt affect the chance of a no-show?"
   ]
  },
  {
   "cell_type": "markdown",
   "metadata": {},
   "source": [
    "- We will remove the times used for scheduling the appointment. Since all appointment times are set to 0, we'll omit the times in the scheduling dates and assess the days in between. "
   ]
  },
  {
   "cell_type": "code",
   "execution_count": 260,
   "metadata": {},
   "outputs": [],
   "source": [
    "#Since both dates are objects, convert them to datetime[ns] objects first\n",
    "\n",
    "df['ScheduledDay'] = pd.to_datetime(df['ScheduledDay'])\n",
    "df['AppointmentDay'] = pd.to_datetime(df['AppointmentDay']) \n",
    "\n",
    "#Now that we have datetime[ns] objects, we want to remove the ns unit (time). We use the strftime function and apply it to both objects.\n",
    "#Note that using this function changes the dates back into objects.\n",
    "df['ScheduledDay'] = df['ScheduledDay'].apply(lambda x: x.strftime('%Y-%m-%d'))\n",
    "df['AppointmentDay'] = df['AppointmentDay'].apply(lambda x: x.strftime('%Y-%m-%d'))"
   ]
  },
  {
   "cell_type": "code",
   "execution_count": 261,
   "metadata": {},
   "outputs": [
    {
     "data": {
      "text/html": [
       "<div>\n",
       "<style scoped>\n",
       "    .dataframe tbody tr th:only-of-type {\n",
       "        vertical-align: middle;\n",
       "    }\n",
       "\n",
       "    .dataframe tbody tr th {\n",
       "        vertical-align: top;\n",
       "    }\n",
       "\n",
       "    .dataframe thead th {\n",
       "        text-align: right;\n",
       "    }\n",
       "</style>\n",
       "<table border=\"1\" class=\"dataframe\">\n",
       "  <thead>\n",
       "    <tr style=\"text-align: right;\">\n",
       "      <th></th>\n",
       "      <th>PatientId</th>\n",
       "      <th>AppointmentID</th>\n",
       "      <th>Gender</th>\n",
       "      <th>ScheduledDay</th>\n",
       "      <th>AppointmentDay</th>\n",
       "      <th>Age</th>\n",
       "      <th>Neighbourhood</th>\n",
       "      <th>Scholarship</th>\n",
       "      <th>Hypertension</th>\n",
       "      <th>Diabetes</th>\n",
       "      <th>Alcoholism</th>\n",
       "      <th>Handcap</th>\n",
       "      <th>SMS_received</th>\n",
       "      <th>No_shows</th>\n",
       "    </tr>\n",
       "  </thead>\n",
       "  <tbody>\n",
       "    <tr>\n",
       "      <th>0</th>\n",
       "      <td>2.987250e+13</td>\n",
       "      <td>5642903</td>\n",
       "      <td>F</td>\n",
       "      <td>2016-04-29</td>\n",
       "      <td>2016-04-29</td>\n",
       "      <td>62</td>\n",
       "      <td>JARDIM DA PENHA</td>\n",
       "      <td>0</td>\n",
       "      <td>1</td>\n",
       "      <td>0</td>\n",
       "      <td>0</td>\n",
       "      <td>0</td>\n",
       "      <td>0</td>\n",
       "      <td>No</td>\n",
       "    </tr>\n",
       "    <tr>\n",
       "      <th>1</th>\n",
       "      <td>5.589978e+14</td>\n",
       "      <td>5642503</td>\n",
       "      <td>M</td>\n",
       "      <td>2016-04-29</td>\n",
       "      <td>2016-04-29</td>\n",
       "      <td>56</td>\n",
       "      <td>JARDIM DA PENHA</td>\n",
       "      <td>0</td>\n",
       "      <td>0</td>\n",
       "      <td>0</td>\n",
       "      <td>0</td>\n",
       "      <td>0</td>\n",
       "      <td>0</td>\n",
       "      <td>No</td>\n",
       "    </tr>\n",
       "    <tr>\n",
       "      <th>2</th>\n",
       "      <td>4.262962e+12</td>\n",
       "      <td>5642549</td>\n",
       "      <td>F</td>\n",
       "      <td>2016-04-29</td>\n",
       "      <td>2016-04-29</td>\n",
       "      <td>62</td>\n",
       "      <td>MATA DA PRAIA</td>\n",
       "      <td>0</td>\n",
       "      <td>0</td>\n",
       "      <td>0</td>\n",
       "      <td>0</td>\n",
       "      <td>0</td>\n",
       "      <td>0</td>\n",
       "      <td>No</td>\n",
       "    </tr>\n",
       "    <tr>\n",
       "      <th>3</th>\n",
       "      <td>8.679512e+11</td>\n",
       "      <td>5642828</td>\n",
       "      <td>F</td>\n",
       "      <td>2016-04-29</td>\n",
       "      <td>2016-04-29</td>\n",
       "      <td>8</td>\n",
       "      <td>PONTAL DE CAMBURI</td>\n",
       "      <td>0</td>\n",
       "      <td>0</td>\n",
       "      <td>0</td>\n",
       "      <td>0</td>\n",
       "      <td>0</td>\n",
       "      <td>0</td>\n",
       "      <td>No</td>\n",
       "    </tr>\n",
       "    <tr>\n",
       "      <th>4</th>\n",
       "      <td>8.841186e+12</td>\n",
       "      <td>5642494</td>\n",
       "      <td>F</td>\n",
       "      <td>2016-04-29</td>\n",
       "      <td>2016-04-29</td>\n",
       "      <td>56</td>\n",
       "      <td>JARDIM DA PENHA</td>\n",
       "      <td>0</td>\n",
       "      <td>1</td>\n",
       "      <td>1</td>\n",
       "      <td>0</td>\n",
       "      <td>0</td>\n",
       "      <td>0</td>\n",
       "      <td>No</td>\n",
       "    </tr>\n",
       "  </tbody>\n",
       "</table>\n",
       "</div>"
      ],
      "text/plain": [
       "      PatientId  AppointmentID Gender ScheduledDay AppointmentDay  Age  \\\n",
       "0  2.987250e+13        5642903      F   2016-04-29     2016-04-29   62   \n",
       "1  5.589978e+14        5642503      M   2016-04-29     2016-04-29   56   \n",
       "2  4.262962e+12        5642549      F   2016-04-29     2016-04-29   62   \n",
       "3  8.679512e+11        5642828      F   2016-04-29     2016-04-29    8   \n",
       "4  8.841186e+12        5642494      F   2016-04-29     2016-04-29   56   \n",
       "\n",
       "       Neighbourhood  Scholarship  Hypertension  Diabetes  Alcoholism  \\\n",
       "0    JARDIM DA PENHA            0             1         0           0   \n",
       "1    JARDIM DA PENHA            0             0         0           0   \n",
       "2      MATA DA PRAIA            0             0         0           0   \n",
       "3  PONTAL DE CAMBURI            0             0         0           0   \n",
       "4    JARDIM DA PENHA            0             1         1           0   \n",
       "\n",
       "   Handcap  SMS_received No_shows  \n",
       "0        0             0       No  \n",
       "1        0             0       No  \n",
       "2        0             0       No  \n",
       "3        0             0       No  \n",
       "4        0             0       No  "
      ]
     },
     "execution_count": 261,
     "metadata": {},
     "output_type": "execute_result"
    }
   ],
   "source": [
    "#We need to change the objects back into dates\n",
    "df['ScheduledDay'] = pd.to_datetime(df['ScheduledDay'])\n",
    "df['AppointmentDay'] = pd.to_datetime(df['AppointmentDay']) \n",
    "df.head()"
   ]
  },
  {
   "cell_type": "code",
   "execution_count": 262,
   "metadata": {},
   "outputs": [
    {
     "data": {
      "text/plain": [
       "PatientId                float64\n",
       "AppointmentID              int64\n",
       "Gender                    object\n",
       "ScheduledDay      datetime64[ns]\n",
       "AppointmentDay    datetime64[ns]\n",
       "Age                        int64\n",
       "Neighbourhood             object\n",
       "Scholarship                int64\n",
       "Hypertension               int64\n",
       "Diabetes                   int64\n",
       "Alcoholism                 int64\n",
       "Handcap                    int64\n",
       "SMS_received               int64\n",
       "No_shows                  object\n",
       "dtype: object"
      ]
     },
     "execution_count": 262,
     "metadata": {},
     "output_type": "execute_result"
    }
   ],
   "source": [
    "df.dtypes"
   ]
  },
  {
   "cell_type": "code",
   "execution_count": 263,
   "metadata": {},
   "outputs": [
    {
     "data": {
      "text/html": [
       "<div>\n",
       "<style scoped>\n",
       "    .dataframe tbody tr th:only-of-type {\n",
       "        vertical-align: middle;\n",
       "    }\n",
       "\n",
       "    .dataframe tbody tr th {\n",
       "        vertical-align: top;\n",
       "    }\n",
       "\n",
       "    .dataframe thead th {\n",
       "        text-align: right;\n",
       "    }\n",
       "</style>\n",
       "<table border=\"1\" class=\"dataframe\">\n",
       "  <thead>\n",
       "    <tr style=\"text-align: right;\">\n",
       "      <th></th>\n",
       "      <th>PatientId</th>\n",
       "      <th>AppointmentID</th>\n",
       "      <th>Gender</th>\n",
       "      <th>ScheduledDay</th>\n",
       "      <th>AppointmentDay</th>\n",
       "      <th>Age</th>\n",
       "      <th>Neighbourhood</th>\n",
       "      <th>Scholarship</th>\n",
       "      <th>Hypertension</th>\n",
       "      <th>Diabetes</th>\n",
       "      <th>Alcoholism</th>\n",
       "      <th>Handcap</th>\n",
       "      <th>SMS_received</th>\n",
       "      <th>No_shows</th>\n",
       "      <th>time_diff</th>\n",
       "    </tr>\n",
       "  </thead>\n",
       "  <tbody>\n",
       "    <tr>\n",
       "      <th>0</th>\n",
       "      <td>2.987250e+13</td>\n",
       "      <td>5642903</td>\n",
       "      <td>F</td>\n",
       "      <td>2016-04-29</td>\n",
       "      <td>2016-04-29</td>\n",
       "      <td>62</td>\n",
       "      <td>JARDIM DA PENHA</td>\n",
       "      <td>0</td>\n",
       "      <td>1</td>\n",
       "      <td>0</td>\n",
       "      <td>0</td>\n",
       "      <td>0</td>\n",
       "      <td>0</td>\n",
       "      <td>No</td>\n",
       "      <td>0 days</td>\n",
       "    </tr>\n",
       "    <tr>\n",
       "      <th>1</th>\n",
       "      <td>5.589978e+14</td>\n",
       "      <td>5642503</td>\n",
       "      <td>M</td>\n",
       "      <td>2016-04-29</td>\n",
       "      <td>2016-04-29</td>\n",
       "      <td>56</td>\n",
       "      <td>JARDIM DA PENHA</td>\n",
       "      <td>0</td>\n",
       "      <td>0</td>\n",
       "      <td>0</td>\n",
       "      <td>0</td>\n",
       "      <td>0</td>\n",
       "      <td>0</td>\n",
       "      <td>No</td>\n",
       "      <td>0 days</td>\n",
       "    </tr>\n",
       "    <tr>\n",
       "      <th>2</th>\n",
       "      <td>4.262962e+12</td>\n",
       "      <td>5642549</td>\n",
       "      <td>F</td>\n",
       "      <td>2016-04-29</td>\n",
       "      <td>2016-04-29</td>\n",
       "      <td>62</td>\n",
       "      <td>MATA DA PRAIA</td>\n",
       "      <td>0</td>\n",
       "      <td>0</td>\n",
       "      <td>0</td>\n",
       "      <td>0</td>\n",
       "      <td>0</td>\n",
       "      <td>0</td>\n",
       "      <td>No</td>\n",
       "      <td>0 days</td>\n",
       "    </tr>\n",
       "    <tr>\n",
       "      <th>3</th>\n",
       "      <td>8.679512e+11</td>\n",
       "      <td>5642828</td>\n",
       "      <td>F</td>\n",
       "      <td>2016-04-29</td>\n",
       "      <td>2016-04-29</td>\n",
       "      <td>8</td>\n",
       "      <td>PONTAL DE CAMBURI</td>\n",
       "      <td>0</td>\n",
       "      <td>0</td>\n",
       "      <td>0</td>\n",
       "      <td>0</td>\n",
       "      <td>0</td>\n",
       "      <td>0</td>\n",
       "      <td>No</td>\n",
       "      <td>0 days</td>\n",
       "    </tr>\n",
       "    <tr>\n",
       "      <th>4</th>\n",
       "      <td>8.841186e+12</td>\n",
       "      <td>5642494</td>\n",
       "      <td>F</td>\n",
       "      <td>2016-04-29</td>\n",
       "      <td>2016-04-29</td>\n",
       "      <td>56</td>\n",
       "      <td>JARDIM DA PENHA</td>\n",
       "      <td>0</td>\n",
       "      <td>1</td>\n",
       "      <td>1</td>\n",
       "      <td>0</td>\n",
       "      <td>0</td>\n",
       "      <td>0</td>\n",
       "      <td>No</td>\n",
       "      <td>0 days</td>\n",
       "    </tr>\n",
       "  </tbody>\n",
       "</table>\n",
       "</div>"
      ],
      "text/plain": [
       "      PatientId  AppointmentID Gender ScheduledDay AppointmentDay  Age  \\\n",
       "0  2.987250e+13        5642903      F   2016-04-29     2016-04-29   62   \n",
       "1  5.589978e+14        5642503      M   2016-04-29     2016-04-29   56   \n",
       "2  4.262962e+12        5642549      F   2016-04-29     2016-04-29   62   \n",
       "3  8.679512e+11        5642828      F   2016-04-29     2016-04-29    8   \n",
       "4  8.841186e+12        5642494      F   2016-04-29     2016-04-29   56   \n",
       "\n",
       "       Neighbourhood  Scholarship  Hypertension  Diabetes  Alcoholism  \\\n",
       "0    JARDIM DA PENHA            0             1         0           0   \n",
       "1    JARDIM DA PENHA            0             0         0           0   \n",
       "2      MATA DA PRAIA            0             0         0           0   \n",
       "3  PONTAL DE CAMBURI            0             0         0           0   \n",
       "4    JARDIM DA PENHA            0             1         1           0   \n",
       "\n",
       "   Handcap  SMS_received No_shows time_diff  \n",
       "0        0             0       No    0 days  \n",
       "1        0             0       No    0 days  \n",
       "2        0             0       No    0 days  \n",
       "3        0             0       No    0 days  \n",
       "4        0             0       No    0 days  "
      ]
     },
     "execution_count": 263,
     "metadata": {},
     "output_type": "execute_result"
    }
   ],
   "source": [
    "#define new variable time_diff that takes the difference. \n",
    "df['time_diff'] = df['AppointmentDay'] - df['ScheduledDay']\n",
    "df.head()"
   ]
  },
  {
   "cell_type": "code",
   "execution_count": 264,
   "metadata": {},
   "outputs": [
    {
     "data": {
      "text/plain": [
       "PatientId                 float64\n",
       "AppointmentID               int64\n",
       "Gender                     object\n",
       "ScheduledDay       datetime64[ns]\n",
       "AppointmentDay     datetime64[ns]\n",
       "Age                         int64\n",
       "Neighbourhood              object\n",
       "Scholarship                 int64\n",
       "Hypertension                int64\n",
       "Diabetes                    int64\n",
       "Alcoholism                  int64\n",
       "Handcap                     int64\n",
       "SMS_received                int64\n",
       "No_shows                   object\n",
       "time_diff         timedelta64[ns]\n",
       "dtype: object"
      ]
     },
     "execution_count": 264,
     "metadata": {},
     "output_type": "execute_result"
    }
   ],
   "source": [
    "df.dtypes"
   ]
  },
  {
   "cell_type": "code",
   "execution_count": 265,
   "metadata": {},
   "outputs": [],
   "source": [
    "#There are negative entries for time_diff. Scheduled appt was after appointment day. That makes no sense\n",
    "#df_new = df[df['time_diff'] >= pd.Timedelta(0)]\n",
    "#print(\"difference in rows: \",df.shape[0]-df_new[0])\n",
    "\n",
    "df = df[df['time_diff'] >= pd.Timedelta(0)]"
   ]
  },
  {
   "cell_type": "code",
   "execution_count": 266,
   "metadata": {},
   "outputs": [
    {
     "name": "stdout",
     "output_type": "stream",
     "text": [
      "37154\n",
      "69828\n"
     ]
    }
   ],
   "source": [
    "#make two separate dfs according to the time difference between appointments\n",
    "zero_days = df[df['time_diff'] == '0 days']\n",
    "nonzero_days = df[df['time_diff'] != '0 days']\n",
    "\n",
    "print(len(zero_days))\n",
    "print(len(nonzero_days))"
   ]
  },
  {
   "cell_type": "code",
   "execution_count": 267,
   "metadata": {},
   "outputs": [
    {
     "data": {
      "text/plain": [
       "time_diff  No_shows\n",
       "0 days     No          35413\n",
       "           Yes          1741\n",
       "Name: No_shows, dtype: int64"
      ]
     },
     "execution_count": 267,
     "metadata": {},
     "output_type": "execute_result"
    }
   ],
   "source": [
    "#find same day no shows\n",
    "noshow_sameday = zero_days.groupby(by = ['time_diff','No_shows'])['No_shows'].count()\n",
    "noshow_sameday"
   ]
  },
  {
   "cell_type": "code",
   "execution_count": 268,
   "metadata": {},
   "outputs": [
    {
     "data": {
      "text/plain": [
       "time_diff  No_shows\n",
       "0 days     No          0.953141\n",
       "           Yes         0.046859\n",
       "Name: No_shows, dtype: float64"
      ]
     },
     "execution_count": 268,
     "metadata": {},
     "output_type": "execute_result"
    }
   ],
   "source": [
    "noshow_sameday/len(zero_days)"
   ]
  },
  {
   "cell_type": "markdown",
   "metadata": {},
   "source": [
    "- As it turns out, 95% of appointments occur when they are scheduled the same day as the appointment. Interesting. I wonder if this is because of medical emergencies prompting people to schedule appointments."
   ]
  },
  {
   "cell_type": "code",
   "execution_count": 269,
   "metadata": {},
   "outputs": [
    {
     "data": {
      "text/plain": [
       "time_diff  No_shows\n",
       "2 days     Yes         1584\n",
       "7 days     Yes         1271\n",
       "4 days     Yes         1209\n",
       "1 days     Yes         1075\n",
       "6 days     Yes          975\n",
       "14 days    Yes          880\n",
       "5 days     Yes          846\n",
       "8 days     Yes          650\n",
       "3 days     Yes          623\n",
       "21 days    Yes          550\n",
       "13 days    Yes          515\n",
       "15 days    Yes          485\n",
       "28 days    Yes          483\n",
       "10 days    Yes          432\n",
       "9 days     Yes          429\n",
       "22 days    Yes          394\n",
       "20 days    Yes          391\n",
       "19 days    Yes          357\n",
       "17 days    Yes          344\n",
       "16 days    Yes          343\n",
       "29 days    Yes          342\n",
       "12 days    Yes          341\n",
       "35 days    Yes          341\n",
       "11 days    Yes          307\n",
       "27 days    Yes          306\n",
       "18 days    Yes          304\n",
       "23 days    Yes          267\n",
       "34 days    Yes          265\n",
       "26 days    Yes          258\n",
       "25 days    Yes          249\n",
       "                       ... \n",
       "91 days    Yes           12\n",
       "71 days    Yes           11\n",
       "79 days    Yes            9\n",
       "85 days    Yes            8\n",
       "80 days    Yes            8\n",
       "89 days    Yes            7\n",
       "104 days   Yes            6\n",
       "155 days   Yes            6\n",
       "176 days   Yes            6\n",
       "87 days    Yes            5\n",
       "88 days    Yes            5\n",
       "133 days   Yes            4\n",
       "81 days    Yes            3\n",
       "142 days   Yes            3\n",
       "103 days   Yes            3\n",
       "162 days   Yes            2\n",
       "179 days   Yes            2\n",
       "110 days   Yes            1\n",
       "111 days   Yes            1\n",
       "126 days   Yes            1\n",
       "132 days   Yes            1\n",
       "102 days   Yes            1\n",
       "139 days   Yes            1\n",
       "96 days    Yes            1\n",
       "146 days   Yes            1\n",
       "151 days   Yes            1\n",
       "86 days    Yes            1\n",
       "83 days    Yes            1\n",
       "169 days   Yes            1\n",
       "95 days    Yes            1\n",
       "Name: No_shows, Length: 109, dtype: int64"
      ]
     },
     "execution_count": 269,
     "metadata": {},
     "output_type": "execute_result"
    }
   ],
   "source": [
    "#define separate dfs for no show status. We do this because number of days varies\n",
    "yes_shows = nonzero_days[nonzero_days['No_shows'] == 'Yes']\n",
    "no_shows = nonzero_days[nonzero_days['No_shows'] == 'No']\n",
    "\n",
    "#find no shows and determine most frequent time difference \n",
    "yesshow_diffday = yes_shows.groupby(by = ['time_diff','No_shows'])['No_shows'].count().sort_values(ascending = False)\n",
    "yesshow_diffday "
   ]
  },
  {
   "cell_type": "code",
   "execution_count": 270,
   "metadata": {},
   "outputs": [
    {
     "name": "stdout",
     "output_type": "stream",
     "text": [
      "time_diff  No_shows\n",
      "2 days     Yes         0.022684\n",
      "7 days     Yes         0.018202\n",
      "4 days     Yes         0.017314\n",
      "1 days     Yes         0.015395\n",
      "6 days     Yes         0.013963\n",
      "14 days    Yes         0.012602\n",
      "5 days     Yes         0.012115\n",
      "8 days     Yes         0.009309\n",
      "3 days     Yes         0.008922\n",
      "21 days    Yes         0.007876\n",
      "13 days    Yes         0.007375\n",
      "15 days    Yes         0.006946\n",
      "28 days    Yes         0.006917\n",
      "10 days    Yes         0.006187\n",
      "9 days     Yes         0.006144\n",
      "22 days    Yes         0.005642\n",
      "20 days    Yes         0.005599\n",
      "19 days    Yes         0.005113\n",
      "17 days    Yes         0.004926\n",
      "16 days    Yes         0.004912\n",
      "29 days    Yes         0.004898\n",
      "12 days    Yes         0.004883\n",
      "35 days    Yes         0.004883\n",
      "11 days    Yes         0.004397\n",
      "27 days    Yes         0.004382\n",
      "18 days    Yes         0.004354\n",
      "23 days    Yes         0.003824\n",
      "34 days    Yes         0.003795\n",
      "26 days    Yes         0.003695\n",
      "25 days    Yes         0.003566\n",
      "                         ...   \n",
      "91 days    Yes         0.000172\n",
      "71 days    Yes         0.000158\n",
      "79 days    Yes         0.000129\n",
      "85 days    Yes         0.000115\n",
      "80 days    Yes         0.000115\n",
      "89 days    Yes         0.000100\n",
      "104 days   Yes         0.000086\n",
      "155 days   Yes         0.000086\n",
      "176 days   Yes         0.000086\n",
      "87 days    Yes         0.000072\n",
      "88 days    Yes         0.000072\n",
      "133 days   Yes         0.000057\n",
      "81 days    Yes         0.000043\n",
      "142 days   Yes         0.000043\n",
      "103 days   Yes         0.000043\n",
      "162 days   Yes         0.000029\n",
      "179 days   Yes         0.000029\n",
      "110 days   Yes         0.000014\n",
      "111 days   Yes         0.000014\n",
      "126 days   Yes         0.000014\n",
      "132 days   Yes         0.000014\n",
      "102 days   Yes         0.000014\n",
      "139 days   Yes         0.000014\n",
      "96 days    Yes         0.000014\n",
      "146 days   Yes         0.000014\n",
      "151 days   Yes         0.000014\n",
      "86 days    Yes         0.000014\n",
      "83 days    Yes         0.000014\n",
      "169 days   Yes         0.000014\n",
      "95 days    Yes         0.000014\n",
      "Name: No_shows, Length: 109, dtype: float64\n"
     ]
    }
   ],
   "source": [
    "#convert above results to percent\n",
    "print(yesshow_diffday/len(nonzero_days))"
   ]
  },
  {
   "cell_type": "markdown",
   "metadata": {},
   "source": [
    "- Most people no-show their appointments after at least two days. Since the percentages of the higher differences are low, this could be because people cancel their appointments after a certain amount of time."
   ]
  },
  {
   "cell_type": "code",
   "execution_count": 271,
   "metadata": {},
   "outputs": [
    {
     "data": {
      "text/plain": [
       "time_diff  No_shows\n",
       "2 days     No          5052\n",
       "4 days     No          4003\n",
       "1 days     No          3953\n",
       "7 days     No          3514\n",
       "6 days     No          2975\n",
       "5 days     No          2350\n",
       "3 days     No          2016\n",
       "14 days    No          1933\n",
       "8 days     No          1598\n",
       "21 days    No          1239\n",
       "28 days    No          1135\n",
       "9 days     No          1134\n",
       "13 days    No          1107\n",
       "15 days    No           956\n",
       "10 days    No           928\n",
       "16 days    No           768\n",
       "20 days    No           760\n",
       "22 days    No           743\n",
       "12 days    No           742\n",
       "17 days    No           733\n",
       "29 days    No           698\n",
       "18 days    No           698\n",
       "27 days    No           674\n",
       "19 days    No           655\n",
       "11 days    No           648\n",
       "35 days    No           569\n",
       "23 days    No           523\n",
       "34 days    No           507\n",
       "30 days    No           475\n",
       "26 days    No           454\n",
       "                       ... \n",
       "108 days   No             5\n",
       "142 days   No             5\n",
       "112 days   No             5\n",
       "81 days    No             5\n",
       "109 days   No             5\n",
       "98 days    No             4\n",
       "119 days   No             4\n",
       "83 days    No             4\n",
       "105 days   No             4\n",
       "155 days   No             4\n",
       "95 days    No             4\n",
       "102 days   No             3\n",
       "92 days    No             3\n",
       "96 days    No             3\n",
       "122 days   No             3\n",
       "93 days    No             2\n",
       "94 days    No             2\n",
       "115 days   No             2\n",
       "111 days   No             2\n",
       "97 days    No             2\n",
       "107 days   No             2\n",
       "104 days   No             2\n",
       "117 days   No             1\n",
       "101 days   No             1\n",
       "123 days   No             1\n",
       "125 days   No             1\n",
       "127 days   No             1\n",
       "110 days   No             1\n",
       "103 days   No             1\n",
       "82 days    No             1\n",
       "Name: No_shows, Length: 123, dtype: int64"
      ]
     },
     "execution_count": 271,
     "metadata": {},
     "output_type": "execute_result"
    }
   ],
   "source": [
    "#find non no-shows and determine most frequent time difference \n",
    "noshow_diffday = no_shows.groupby(by = ['time_diff','No_shows'])['No_shows'].count().sort_values(ascending = False)\n",
    "noshow_diffday "
   ]
  },
  {
   "cell_type": "code",
   "execution_count": 272,
   "metadata": {},
   "outputs": [
    {
     "name": "stdout",
     "output_type": "stream",
     "text": [
      "time_diff  No_shows\n",
      "2 days     No          0.072349\n",
      "4 days     No          0.057327\n",
      "1 days     No          0.056611\n",
      "7 days     No          0.050324\n",
      "6 days     No          0.042605\n",
      "5 days     No          0.033654\n",
      "3 days     No          0.028871\n",
      "14 days    No          0.027682\n",
      "8 days     No          0.022885\n",
      "21 days    No          0.017744\n",
      "28 days    No          0.016254\n",
      "9 days     No          0.016240\n",
      "13 days    No          0.015853\n",
      "15 days    No          0.013691\n",
      "10 days    No          0.013290\n",
      "16 days    No          0.010998\n",
      "20 days    No          0.010884\n",
      "22 days    No          0.010640\n",
      "12 days    No          0.010626\n",
      "17 days    No          0.010497\n",
      "29 days    No          0.009996\n",
      "18 days    No          0.009996\n",
      "27 days    No          0.009652\n",
      "19 days    No          0.009380\n",
      "11 days    No          0.009280\n",
      "35 days    No          0.008149\n",
      "23 days    No          0.007490\n",
      "34 days    No          0.007261\n",
      "30 days    No          0.006802\n",
      "26 days    No          0.006502\n",
      "                         ...   \n",
      "108 days   No          0.000072\n",
      "142 days   No          0.000072\n",
      "112 days   No          0.000072\n",
      "81 days    No          0.000072\n",
      "109 days   No          0.000072\n",
      "98 days    No          0.000057\n",
      "119 days   No          0.000057\n",
      "83 days    No          0.000057\n",
      "105 days   No          0.000057\n",
      "155 days   No          0.000057\n",
      "95 days    No          0.000057\n",
      "102 days   No          0.000043\n",
      "92 days    No          0.000043\n",
      "96 days    No          0.000043\n",
      "122 days   No          0.000043\n",
      "93 days    No          0.000029\n",
      "94 days    No          0.000029\n",
      "115 days   No          0.000029\n",
      "111 days   No          0.000029\n",
      "97 days    No          0.000029\n",
      "107 days   No          0.000029\n",
      "104 days   No          0.000029\n",
      "117 days   No          0.000014\n",
      "101 days   No          0.000014\n",
      "123 days   No          0.000014\n",
      "125 days   No          0.000014\n",
      "127 days   No          0.000014\n",
      "110 days   No          0.000014\n",
      "103 days   No          0.000014\n",
      "82 days    No          0.000014\n",
      "Name: No_shows, Length: 123, dtype: float64\n"
     ]
    }
   ],
   "source": [
    "#convert above results to percent\n",
    "print(noshow_diffday/len(nonzero_days))"
   ]
  },
  {
   "cell_type": "markdown",
   "metadata": {},
   "source": [
    "- Appointments do not have no-shows if they are set within a week of being scheduled. With that said, the best case scenario is to plan an appointment the same day as it is scheduled."
   ]
  },
  {
   "cell_type": "markdown",
   "metadata": {},
   "source": [
    "Conclusion: The goal of this data analysis was to determine what is the underlying cause for why people no-show their medical appointments. From examining neighborhoods, scholarship status, and even whether or not they recieved SMS messages, a potential hypothesis for what is causing people to no-show is the amount of time between scheduling the appointment and the date of the actual appointment.\n",
    "\n",
    "Approximately 95% of patients didnt't no-show their appointments when they scheduled an appointment the same day as the appointment. There are a number of underlying reasons to consider for why this is so, but this insight can hopefully provide further answers and help clinics and hospitals cut down their expenses by a significant amount.\n",
    "\n",
    "For further analysis, I would want to dive deeper into whether medical conditions contribute to people no-showing their appointments. I do wonder if ailments such as Diabetes or hypertension are taken or not taken as seriously as they should be. Even after analyzing this dataset, I still find myself with more questions to ask than answers found. "
   ]
  }
 ],
 "metadata": {
  "kernelspec": {
   "display_name": "Python 3",
   "language": "python",
   "name": "python3"
  },
  "language_info": {
   "codemirror_mode": {
    "name": "ipython",
    "version": 3
   },
   "file_extension": ".py",
   "mimetype": "text/x-python",
   "name": "python",
   "nbconvert_exporter": "python",
   "pygments_lexer": "ipython3",
   "version": "3.6.8"
  }
 },
 "nbformat": 4,
 "nbformat_minor": 2
}
